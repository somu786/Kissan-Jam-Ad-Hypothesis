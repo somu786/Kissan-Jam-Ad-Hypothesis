{
 "cells": [
  {
   "cell_type": "code",
   "execution_count": 1,
   "id": "af5c81d0",
   "metadata": {},
   "outputs": [
    {
     "name": "stdout",
     "output_type": "stream",
     "text": [
      "\n",
      "Comparing sales between age group below 10 and Age(11 to 20) Before Ad\n",
      "\n",
      "Average:\n",
      "Age(Below 10) | Age(11 to 20)\n",
      "   17845.9        25936.53\n",
      "\n",
      "- ---------------------------------------- -\n",
      "| Hypothesis Test Result:                  |\n",
      "-                                          -\n",
      "| P Value is Low, Null Rejected (Not Same) |\n",
      "- ---------------------------------------- -\n",
      "\n",
      "-->-->-->-->-->-->-->-->-->-->-->-->-->-->-->-->-->-->-->-->-->-->-->\n",
      "\n",
      "Comparing sales between age group below 10 and Age(11 to 20) After Ad\n",
      "\n",
      "Average:\n",
      "Age(Below 10) | Age(11 to 20)\n",
      "   26206.2        26346.57\n",
      "\n",
      "- ---------------------------------------- -\n",
      "| Hypothesis Test Result:                  |\n",
      "-                                          -\n",
      "| P Value is High, Null Accepted (Same)    |\n",
      "- ---------------------------------------- -\n"
     ]
    }
   ],
   "source": [
    "import pandas as pd\n",
    "from scipy import stats\n",
    "\n",
    "dataBeforeAd = pd.read_excel(\"C:/Users/raman/Documents/kissanSalesBeforeAd.xlsx\")\n",
    "dataAfterAd = pd.read_excel(\"C:/Users/raman/Documents/kissanSalesAfterAd.xlsx\")\n",
    "\n",
    "alpha = 0.05\n",
    "\n",
    "s,p=stats.ttest_ind(dataBeforeAd['Below_10'],dataBeforeAd['11_to_20'])\n",
    "\n",
    "print()\n",
    "print(\"Comparing sales between age group below 10 and Age(11 to 20) Before Ad\")\n",
    "print()\n",
    "print(\"Average:\")\n",
    "print(\"Age(Below 10) | Age(11 to 20)\")\n",
    "print(\"  \",round(dataBeforeAd[\"Below_10\"].mean(),2),\"      \",round(dataBeforeAd[\"11_to_20\"].mean(),2))\n",
    "print()\n",
    "print(\"-\",40*\"-\",\"-\")\n",
    "print(\"| Hypothesis Test Result:                  |\")\n",
    "print(\"-\",40*\" \",\"-\")\n",
    "if (p < alpha):\n",
    "    print(\"| P Value is Low, Null Rejected (Not Same) |\")\n",
    "    print(\"-\",40*\"-\",\"-\")\n",
    "else:\n",
    "    print(\"| P Value is High, Null Accepted (Same)    |\") \n",
    "    print(\"-\",40*\"-\",\"-\")\n",
    "print()\n",
    "print(23*\"-->\")    \n",
    "print()\n",
    "s1,p1 = stats.ttest_ind(dataAfterAd['Below_10'],dataAfterAd['11_to_20'])\n",
    "\n",
    "print(\"Comparing sales between age group below 10 and Age(11 to 20) After Ad\")\n",
    "print()\n",
    "print(\"Average:\")\n",
    "print(\"Age(Below 10) | Age(11 to 20)\")\n",
    "print(\"  \",round(dataAfterAd[\"Below_10\"].mean(),2),\"      \",round(dataAfterAd[\"11_to_20\"].mean(),2))\n",
    "print()\n",
    "print(\"-\",40*\"-\",\"-\")\n",
    "print(\"| Hypothesis Test Result:                  |\")\n",
    "print(\"-\",40*\" \",\"-\")\n",
    "if (p1 < alpha):\n",
    "    print(\"| P Value is Low, Null Rejected (Not Same) |\")\n",
    "    print(\"-\",40*\"-\",\"-\")\n",
    "else:\n",
    "    print(\"| P Value is High, Null Accepted (Same)    |\")  \n",
    "    print(\"-\",40*\"-\",\"-\")\n"
   ]
  },
  {
   "cell_type": "code",
   "execution_count": null,
   "id": "ae784766",
   "metadata": {},
   "outputs": [],
   "source": []
  }
 ],
 "metadata": {
  "kernelspec": {
   "display_name": "Python 3 (ipykernel)",
   "language": "python",
   "name": "python3"
  },
  "language_info": {
   "codemirror_mode": {
    "name": "ipython",
    "version": 3
   },
   "file_extension": ".py",
   "mimetype": "text/x-python",
   "name": "python",
   "nbconvert_exporter": "python",
   "pygments_lexer": "ipython3",
   "version": "3.9.7"
  }
 },
 "nbformat": 4,
 "nbformat_minor": 5
}
